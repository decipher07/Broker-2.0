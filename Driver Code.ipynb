{
 "cells": [
  {
   "cell_type": "code",
   "execution_count": 2,
   "metadata": {},
   "outputs": [],
   "source": [
    "from selenium import webdriver\n",
    "import time\n",
    "import pandas as pd\n",
    "\n",
    "op = webdriver.ChromeOptions()\n",
    "op.add_argument('headless')\n",
    "browser = webdriver.Chrome(executable_path='./chromedriver', options = op)"
   ]
  },
  {
   "cell_type": "code",
   "execution_count": 3,
   "metadata": {},
   "outputs": [
    {
     "data": {
      "text/html": [
       "<div>\n",
       "<style scoped>\n",
       "    .dataframe tbody tr th:only-of-type {\n",
       "        vertical-align: middle;\n",
       "    }\n",
       "\n",
       "    .dataframe tbody tr th {\n",
       "        vertical-align: top;\n",
       "    }\n",
       "\n",
       "    .dataframe thead th {\n",
       "        text-align: right;\n",
       "    }\n",
       "</style>\n",
       "<table border=\"1\" class=\"dataframe\">\n",
       "  <thead>\n",
       "    <tr style=\"text-align: right;\">\n",
       "      <th></th>\n",
       "      <th>Name of Stock</th>\n",
       "      <th>Url</th>\n",
       "    </tr>\n",
       "  </thead>\n",
       "  <tbody>\n",
       "    <tr>\n",
       "      <th>0</th>\n",
       "      <td>Reliance</td>\n",
       "      <td>https://www.moneycontrol.com/technical-analysi...</td>\n",
       "    </tr>\n",
       "    <tr>\n",
       "      <th>1</th>\n",
       "      <td>Tata Motors</td>\n",
       "      <td>https://www.moneycontrol.com/technical-analysi...</td>\n",
       "    </tr>\n",
       "    <tr>\n",
       "      <th>2</th>\n",
       "      <td>Bajaj Finance</td>\n",
       "      <td>https://www.moneycontrol.com/technical-analysi...</td>\n",
       "    </tr>\n",
       "    <tr>\n",
       "      <th>3</th>\n",
       "      <td>Bajaj Finserv</td>\n",
       "      <td>https://www.moneycontrol.com/technical-analysi...</td>\n",
       "    </tr>\n",
       "    <tr>\n",
       "      <th>4</th>\n",
       "      <td>HDFC Bank</td>\n",
       "      <td>https://www.moneycontrol.com/technical-analysi...</td>\n",
       "    </tr>\n",
       "    <tr>\n",
       "      <th>5</th>\n",
       "      <td>HDFC Life</td>\n",
       "      <td>https://www.moneycontrol.com/technical-analysi...</td>\n",
       "    </tr>\n",
       "    <tr>\n",
       "      <th>6</th>\n",
       "      <td>HDFC AMC</td>\n",
       "      <td>https://www.moneycontrol.com/technical-analysi...</td>\n",
       "    </tr>\n",
       "  </tbody>\n",
       "</table>\n",
       "</div>"
      ],
      "text/plain": [
       "   Name of Stock                                                Url\n",
       "0       Reliance  https://www.moneycontrol.com/technical-analysi...\n",
       "1    Tata Motors  https://www.moneycontrol.com/technical-analysi...\n",
       "2  Bajaj Finance  https://www.moneycontrol.com/technical-analysi...\n",
       "3  Bajaj Finserv  https://www.moneycontrol.com/technical-analysi...\n",
       "4      HDFC Bank  https://www.moneycontrol.com/technical-analysi...\n",
       "5      HDFC Life  https://www.moneycontrol.com/technical-analysi...\n",
       "6       HDFC AMC  https://www.moneycontrol.com/technical-analysi..."
      ]
     },
     "execution_count": 3,
     "metadata": {},
     "output_type": "execute_result"
    }
   ],
   "source": [
    "initial_data = pd.read_excel('Stock-URL.xlsx')\n",
    "initial_data"
   ]
  },
  {
   "cell_type": "code",
   "execution_count": 17,
   "metadata": {},
   "outputs": [
    {
     "name": "stdout",
     "output_type": "stream",
     "text": [
      "Reliance https://www.moneycontrol.com/technical-analysis/relianceindustries/RI/\n",
      "Tata Motors https://www.moneycontrol.com/technical-analysis/tatamotors/TM03/\n",
      "Bajaj Finance https://www.moneycontrol.com/technical-analysis/bajajfinance/BAF/\n",
      "Bajaj Finserv https://www.moneycontrol.com/technical-analysis/bajajfinserv/BF04/\n",
      "HDFC Bank https://www.moneycontrol.com/technical-analysis/hdfcbank/HDF01/\n",
      "HDFC Life https://www.moneycontrol.com/technical-analysis/hdfclifeinsurancecompanylimited/HSL01/\n",
      "HDFC AMC https://www.moneycontrol.com/technical-analysis/hdfcassetmanagementcompany/HAM02/\n"
     ]
    }
   ],
   "source": [
    "for index, row in initial_data.iterrows():\n",
    "    print (row[\"Name of Stock\"], row[\"Url\"])"
   ]
  },
  {
   "cell_type": "code",
   "execution_count": 22,
   "metadata": {},
   "outputs": [],
   "source": [
    "def rsi_value_of_given_stock ( stock_name, stock_url ):\n",
    "    \n",
    "    daily_rsi_url = stock_url + 'daily'\n",
    "    weekly_rsi_url = stock_url + 'weekly'\n",
    "    monthly_rsi_url = stock_url + 'monthly'\n",
    "    \n",
    "    browser.get(daily_rsi_url)\n",
    "    daily_rsi_value = browser.find_element_by_xpath('//*[@id=\"techindd\"]/div[3]/table/tbody[2]/tr[1]/td[2]/strong').text\n",
    "    \n",
    "    browser.get(weekly_rsi_url)\n",
    "    weekly_rsi_value = browser.find_element_by_xpath('//*[@id=\"techind\"]/div[3]/table/tbody[2]/tr[1]/td[2]/strong').text\n",
    "    \n",
    "    browser.get(monthly_rsi_url)\n",
    "    monthly_rsi_value = browser.find_element_by_xpath('//*[@id=\"techind_m\"]/div[3]/table/tbody[2]/tr[1]/td[2]/strong').text\n",
    "    \n",
    "    # Date\n",
    "    date_for_the_given_stock = browser.find_element_by_xpath('//*[@id=\"div_bse_livebox_wrap\"]/div[1]/div[1]/div/div[1]/span').text\n",
    "\n",
    "    # Closing\n",
    "    closing_value = browser.find_element_by_xpath('//*[@id=\"div_nse_livebox_wrap\"]/div[1]/div[1]/div/div[2]/span[1]').text\n",
    "    \n",
    "    return [daily_rsi_value, weekly_rsi_value, monthly_rsi_value, date_for_the_given_stock, closing_value]"
   ]
  },
  {
   "cell_type": "code",
   "execution_count": 19,
   "metadata": {},
   "outputs": [
    {
     "data": {
      "text/plain": [
       "['45.45', '50.84', '61.83']"
      ]
     },
     "execution_count": 19,
     "metadata": {},
     "output_type": "execute_result"
    }
   ],
   "source": [
    "rsi_value_of_given_stock (\"Reliance\", 'https://www.moneycontrol.com/technical-analysis/relianceindustries/RI/' )"
   ]
  },
  {
   "cell_type": "code",
   "execution_count": 23,
   "metadata": {},
   "outputs": [
    {
     "name": "stdout",
     "output_type": "stream",
     "text": [
      "['45.45', '50.84', '61.83', 'Apr 1, 16:00', '2021.85']\n",
      "['50.20', '68.29', '64.87', 'Apr 1, 16:00', '307.75']\n",
      "['47.16', '59.15', '65.02', 'Apr 1, 16:00', '5272.15']\n",
      "['54.05', '61.93', '63.58', 'Apr 1, 16:00', '9789.50']\n",
      "['45.62', '58.41', '64.90', 'Apr 1, 16:00', '1486.75']\n",
      "['48.23', '56.84', '64.17', 'Apr 1, 16:00', '691.00']\n",
      "['51.49', '55.32', '60.82', 'Apr 1, 16:00', '2963.35']\n"
     ]
    }
   ],
   "source": [
    "for index, row in initial_data.iterrows():\n",
    "    print (rsi_value_of_given_stock (row[\"Name of Stock\"], row[\"Url\"]) )"
   ]
  },
  {
   "cell_type": "code",
   "execution_count": null,
   "metadata": {},
   "outputs": [],
   "source": []
  }
 ],
 "metadata": {
  "kernelspec": {
   "display_name": "Python 3.7.6 64-bit ('base')",
   "language": "python",
   "name": "python37664bitbase61f22f9d962e4aba9949b562ef796c5f"
  },
  "language_info": {
   "codemirror_mode": {
    "name": "ipython",
    "version": 3
   },
   "file_extension": ".py",
   "mimetype": "text/x-python",
   "name": "python",
   "nbconvert_exporter": "python",
   "pygments_lexer": "ipython3",
   "version": "3.7.6"
  }
 },
 "nbformat": 4,
 "nbformat_minor": 4
}
